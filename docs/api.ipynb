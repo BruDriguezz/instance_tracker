{
 "cells": [
  {
   "cell_type": "markdown",
   "source": [
    "# TrackerPy\n",
    "## A simplistic, yet elegant solution for tracking object instances across your code.\n",
    "# -----------------"
   ],
   "metadata": {
    "collapsed": false
   },
   "id": "7f7059ebf0dcb0bc"
  },
  {
   "cell_type": "code",
   "execution_count": null,
   "outputs": [],
   "source": [
    "# Simple usage of TrackerPy\n",
    "from trackerpy import Tracker\n",
    "import random\n",
    "\n",
    "@Tracker\n",
    "class Foo(object):\n",
    "    def __init__(\n",
    "            self,\n",
    "    ) -> None:\n",
    "        pass\n",
    "    \n",
    "    ...\n",
    "\n",
    "refs = []\n",
    "for _ in range(0, 100):\n",
    "    refs.append(Foo())\n",
    "    \n",
    "print(f'There are currently {len(Foo.instances)} instances of Foo.')"
   ],
   "metadata": {
    "collapsed": false,
    "is_executing": true
   },
   "id": "1a5ed7cb4294d0d9"
  },
  {
   "cell_type": "code",
   "execution_count": null,
   "outputs": [],
   "source": [],
   "metadata": {
    "collapsed": false,
    "is_executing": true
   },
   "id": "a4717793ccd71bf9"
  }
 ],
 "metadata": {
  "kernelspec": {
   "display_name": "Python 3",
   "language": "python",
   "name": "python3"
  },
  "language_info": {
   "codemirror_mode": {
    "name": "ipython",
    "version": 2
   },
   "file_extension": ".py",
   "mimetype": "text/x-python",
   "name": "python",
   "nbconvert_exporter": "python",
   "pygments_lexer": "ipython2",
   "version": "2.7.6"
  }
 },
 "nbformat": 4,
 "nbformat_minor": 5
}
